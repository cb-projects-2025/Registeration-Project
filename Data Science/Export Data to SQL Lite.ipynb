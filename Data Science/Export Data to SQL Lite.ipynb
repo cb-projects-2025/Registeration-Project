{
 "cells": [
  {
   "cell_type": "code",
   "execution_count": null,
   "id": "5385cec6",
   "metadata": {},
   "outputs": [
    {
     "name": "stdout",
     "output_type": "stream",
     "text": [
      "Exported 'Payment_Method' to table 'Payment_Method'\n",
      "Exported 'Payment' to table 'Payment'\n",
      "Exported 'Institution' to table 'Institution'\n",
      "Exported 'Academic_Level' to table 'Academic_Level'\n",
      "Exported 'Track' to table 'Track'\n",
      "Exported 'Batch' to table 'Batch'\n",
      "Exported 'Track_Batch' to table 'Track_Batch'\n",
      "Exported 'User_Batch' to table 'User_Batch'\n",
      "Exported 'Instructor_Batch' to table 'Instructor_Batch'\n",
      "Exported 'USER' to table 'USER'\n"
     ]
    }
   ],
   "source": [
    "import pandas as pd\n",
    "import sqlite3\n",
    "\n",
    "# Load your Excel file\n",
    "excel_path = r\"C:\\Users\\Charbel\\Desktop\\Data Science X5\\Data Collection - Registration App Final2.xlsx\"\n",
    "excel_file = pd.ExcelFile(excel_path)\n",
    "sheets_dict = {sheet_name: excel_file.parse(sheet_name) for sheet_name in excel_file.sheet_names}\n",
    "\n",
    "# Clean the data: remove duplicates and fully empty rows\n",
    "cleaned_dfs = {\n",
    "    name: df.drop_duplicates().dropna(how='all')\n",
    "    for name, df in sheets_dict.items()\n",
    "}\n",
    "\n",
    "# Connect to SQLite (creates a new file or overwrites existing)\n",
    "conn = sqlite3.connect(\"Registration App.db\")\n",
    "\n",
    "# Export each DataFrame to a table\n",
    "for name, df in cleaned_dfs.items():\n",
    "    table_name = name.replace(\" \", \"_\")  # Just in case there are spaces\n",
    "    df.to_sql(table_name, conn, if_exists='replace', index=False)\n",
    "    print(f\"Exported '{name}' to table '{table_name}'\")\n",
    "\n",
    "conn.close()\n"
   ]
  },
  {
   "cell_type": "code",
   "execution_count": 6,
   "id": "b99f8a51",
   "metadata": {},
   "outputs": [
    {
     "name": "stdout",
     "output_type": "stream",
     "text": [
      "   USER_ID DATE_OF_BIRTH  ROLE AGE_GROUP_BUCKET  GENDER  ACADEMIC_LEVEL_ID  \\\n",
      "0        1    1994-10-31  User            30-39  Female                  4   \n",
      "1        2    2001-01-26  User            20-29  Female                  6   \n",
      "2        3    2002-08-30  User            20-29    Male                  6   \n",
      "3        4    1997-08-04  User            20-29    Male                  4   \n",
      "4        5    1993-07-02  User            30-39  Female                  6   \n",
      "\n",
      "  ACADEMIC_LEVEL  INSTITUTION_ID               INSTITUTION_NAME  \\\n",
      "0       Sophmore              33           University of Byblos   \n",
      "1       Graduate              14            Antonine University   \n",
      "2       Graduate              46  Arab International University   \n",
      "3       Sophmore              31    University of Mount Lebanon   \n",
      "4       Graduate              31    University of Mount Lebanon   \n",
      "\n",
      "  INSTITUTION_TYPE  \n",
      "0       university  \n",
      "1       university  \n",
      "2       university  \n",
      "3       university  \n",
      "4       university  \n"
     ]
    }
   ],
   "source": [
    "  \n",
    "import sqlite3  \n",
    "import pandas as pd\n",
    "\n",
    "db_path = r\"C:\\Users\\Charbel\\Desktop\\Data Science X5\\Registration App.db\"\n",
    " \n",
    "conn = sqlite3.connect(db_path)\n",
    " \n",
    "views = ['USER_DEMOGRAPHICS', 'USERS_PER_BATCH', 'PAYMENT_V']\n",
    " \n",
    "USER_DEMOGRAPHICS = pd.read_sql_query(f\"SELECT * FROM {views[0]}\", conn)\n",
    "USERS_PER_BATCH = pd.read_sql_query(f\"SELECT * FROM {views[1]}\", conn)\n",
    "PAYMENT_V = pd.read_sql_query(f\"SELECT * FROM {views[2]}\", conn)\n",
    " \n",
    "conn.close()\n",
    " \n",
    "print(USER_DEMOGRAPHICS.head())\n"
   ]
  },
  {
   "cell_type": "code",
   "execution_count": null,
   "id": "b2709abd",
   "metadata": {},
   "outputs": [],
   "source": [
    "#i ran this in the terminal before the code after it\n",
    "#pip install streamlit pandas plotly"
   ]
  },
  {
   "cell_type": "code",
   "execution_count": null,
   "id": "118a6351",
   "metadata": {},
   "outputs": [
    {
     "ename": "SyntaxError",
     "evalue": "invalid syntax (1304922693.py, line 32)",
     "output_type": "error",
     "traceback": [
      "\u001b[1;36m  Cell \u001b[1;32mIn[11], line 32\u001b[1;36m\u001b[0m\n\u001b[1;33m    pip install streamlit pandas plotly\u001b[0m\n\u001b[1;37m        ^\u001b[0m\n\u001b[1;31mSyntaxError\u001b[0m\u001b[1;31m:\u001b[0m invalid syntax\n"
     ]
    }
   ],
   "source": [
    "import streamlit as st\n",
    "import sqlite3\n",
    "import pandas as pd\n",
    "import plotly.express as px\n",
    "\n",
    "st.set_page_config(layout=\"wide\", page_title=\"User Registration Summary\")\n",
    "\n",
    "st.title(\"User Registration Summary\")\n",
    "\n",
    "col1, col2, col3, col4 = st.columns(4)\n",
    "\n",
    "with col1:\n",
    "    st.subheader(\"By Gender\")\n",
    "    fig_gender = px.pie(USER_DEMOGRAPHICS, names='GENDER', title='', hole=0.4)\n",
    "    st.plotly_chart(fig_gender, use_container_width=True)\n",
    "\n",
    "with col2:\n",
    "    st.subheader(\"By Age Group\")\n",
    "    fig_age = px.pie(USER_DEMOGRAPHICS, names='AGE_GROUP_BUCKET', title='', hole=0.4)\n",
    "    st.plotly_chart(fig_age, use_container_width=True)\n",
    "\n",
    "with col3:\n",
    "    st.subheader(\"By Academic Level\")\n",
    "    fig_academic = px.pie(USER_DEMOGRAPHICS, names='ACADEMIC_LEVEL', title='', hole=0.4)\n",
    "    st.plotly_chart(fig_academic, use_container_width=True)\n",
    "\n",
    "with col4:\n",
    "    st.subheader(\"By Institution\")\n",
    "    fig_institution = px.pie(USER_DEMOGRAPHICS, names='INSTITUTION_NAME', title='', hole=0.4)\n",
    "    st.plotly_chart(fig_institution, use_container_width=True)\n",
    "\n"
   ]
  },
  {
   "cell_type": "code",
   "execution_count": null,
   "id": "86a47728",
   "metadata": {},
   "outputs": [
    {
     "ename": "SyntaxError",
     "evalue": "invalid syntax (1326856841.py, line 4)",
     "output_type": "error",
     "traceback": [
      "\u001b[1;36m  Cell \u001b[1;32mIn[13], line 4\u001b[1;36m\u001b[0m\n\u001b[1;33m    streamlit run app.py\u001b[0m\n\u001b[1;37m              ^\u001b[0m\n\u001b[1;31mSyntaxError\u001b[0m\u001b[1;31m:\u001b[0m invalid syntax\n"
     ]
    }
   ],
   "source": []
  },
  {
   "cell_type": "code",
   "execution_count": null,
   "id": "32dc0020",
   "metadata": {},
   "outputs": [],
   "source": []
  }
 ],
 "metadata": {
  "kernelspec": {
   "display_name": "base",
   "language": "python",
   "name": "python3"
  },
  "language_info": {
   "codemirror_mode": {
    "name": "ipython",
    "version": 3
   },
   "file_extension": ".py",
   "mimetype": "text/x-python",
   "name": "python",
   "nbconvert_exporter": "python",
   "pygments_lexer": "ipython3",
   "version": "3.12.7"
  }
 },
 "nbformat": 4,
 "nbformat_minor": 5
}
